{
 "cells": [
  {
   "cell_type": "markdown",
   "id": "3c4aa9bf",
   "metadata": {
    "toc": true
   },
   "source": [
    "<h1>Table of Contents<span class=\"tocSkip\"></span></h1>\n",
    "<div class=\"toc\"><ul class=\"toc-item\"></ul></div>"
   ]
  },
  {
   "cell_type": "code",
   "execution_count": 268,
   "id": "3c9729a0",
   "metadata": {},
   "outputs": [],
   "source": [
    "import gEconpy as ge\n",
    "import sympy as sp\n",
    "from gEconpy.shared.utilities import eq_to_ss"
   ]
  },
  {
   "cell_type": "code",
   "execution_count": 277,
   "id": "352410ba",
   "metadata": {},
   "outputs": [
    {
     "name": "stdout",
     "output_type": "stream",
     "text": [
      "Model Building Complete.\n",
      "Found:\n",
      "\t42 equations\n",
      "\t42 variables\n",
      "\tThe following \"variables\" were defined as constants and have been substituted away:\n",
      "\t\tB_t,mc_Y_t\n",
      "\t4 stochastic shocks\n",
      "\t\t 0 / 4 has a defined prior. \n",
      "\t20 parameters\n",
      "\t\t 0 / 20 has a defined prior. \n",
      "\t0 calibrating equations\n",
      "\t0 parameters to calibrate\n",
      " Model appears well defined and ready to proceed to solving.\n",
      "\n"
     ]
    }
   ],
   "source": [
    "mod = ge.gEconModel('gcn_files/2_region.gcn')"
   ]
  },
  {
   "cell_type": "code",
   "execution_count": 285,
   "id": "9d891530",
   "metadata": {},
   "outputs": [
    {
     "name": "stdout",
     "output_type": "stream",
     "text": [
      "Steady state found! Sum of squared residuals is 1.8605349885125277e-29\n"
     ]
    }
   ],
   "source": [
    "mod.steady_state()"
   ]
  },
  {
   "cell_type": "code",
   "execution_count": 288,
   "id": "9382c02d",
   "metadata": {},
   "outputs": [
    {
     "name": "stdout",
     "output_type": "stream",
     "text": [
      "C_ss                         1.391\n",
      "Div_A_ss                     0.299\n",
      "Div_B_ss                     0.299\n",
      "Div_Y_ss                     0.000\n",
      "Div_ss                       0.599\n",
      "I_ss                         0.263\n",
      "K_d_A_ss                     5.261\n",
      "K_d_B_ss                     5.261\n",
      "K_ss                        10.523\n",
      "LHS_A_ss                     1.675\n",
      "LHS_B_ss                     1.675\n",
      "L_d_A_ss                     0.330\n",
      "L_d_B_ss                     0.330\n",
      "L_ss                         0.660\n",
      "P_A_ss                       1.000\n",
      "P_A_star_ss                  0.985\n",
      "P_B_ss                       1.000\n",
      "P_B_star_ss                  0.985\n",
      "P_nu_A_ss                    1.052\n",
      "P_nu_B_ss                    1.052\n",
      "RHS_A_ss                     1.047\n",
      "RHS_B_ss                     1.047\n",
      "TC_A_ss                     -0.528\n",
      "TC_B_ss                     -0.528\n",
      "TC_Y_ss                     -1.654\n",
      "U_ss                       -86.060\n",
      "Y_A_ss                       0.827\n",
      "Y_B_ss                       0.827\n",
      "Y_f_A_ss                     0.870\n",
      "Y_f_B_ss                     0.870\n",
      "Y_ss                         1.654\n",
      "lambda_ss                    0.517\n",
      "mc_A_ss                      0.606\n",
      "mc_B_ss                      0.606\n",
      "pi_obj_ss                    1.000\n",
      "pi_ss                        1.005\n",
      "q_ss                         0.517\n",
      "r_G_ss                       1.015\n",
      "r_ss                         0.035\n",
      "shock_preference_ss          1.000\n",
      "shock_technology_ss          1.000\n",
      "w_ss                         1.039\n"
     ]
    }
   ],
   "source": [
    "mod.print_steady_state()"
   ]
  },
  {
   "cell_type": "code",
   "execution_count": 290,
   "id": "27d2724f",
   "metadata": {},
   "outputs": [
    {
     "name": "stdout",
     "output_type": "stream",
     "text": [
      "Solution found, sum of squared residuals:  7.966819739692769e+26\n",
      "Norm of deterministic part: 28225555335002.285156250\n",
      "Norm of stochastic part:    28225555335002.285156250\n"
     ]
    }
   ],
   "source": [
    "mod.solve_model()"
   ]
  },
  {
   "cell_type": "code",
   "execution_count": null,
   "id": "6b26674c",
   "metadata": {},
   "outputs": [],
   "source": []
  }
 ],
 "metadata": {
  "kernelspec": {
   "display_name": "Python 3 (ipykernel)",
   "language": "python",
   "name": "python3"
  },
  "language_info": {
   "codemirror_mode": {
    "name": "ipython",
    "version": 3
   },
   "file_extension": ".py",
   "mimetype": "text/x-python",
   "name": "python",
   "nbconvert_exporter": "python",
   "pygments_lexer": "ipython3",
   "version": "3.10.10"
  },
  "toc": {
   "base_numbering": 1,
   "nav_menu": {},
   "number_sections": true,
   "sideBar": true,
   "skip_h1_title": false,
   "title_cell": "Table of Contents",
   "title_sidebar": "Contents",
   "toc_cell": true,
   "toc_position": {},
   "toc_section_display": true,
   "toc_window_display": false
  }
 },
 "nbformat": 4,
 "nbformat_minor": 5
}
