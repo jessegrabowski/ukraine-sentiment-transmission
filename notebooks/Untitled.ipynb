{
 "cells": [
  {
   "cell_type": "markdown",
   "id": "823c3f58",
   "metadata": {
    "toc": true
   },
   "source": [
    "<h1>Table of Contents<span class=\"tocSkip\"></span></h1>\n",
    "<div class=\"toc\"><ul class=\"toc-item\"></ul></div>"
   ]
  },
  {
   "cell_type": "code",
   "execution_count": 1,
   "id": "c21d0f22",
   "metadata": {},
   "outputs": [],
   "source": [
    "import numpy as np"
   ]
  },
  {
   "cell_type": "code",
   "execution_count": 2,
   "id": "dc4dfcc7",
   "metadata": {},
   "outputs": [],
   "source": [
    "import statsmodels.api as sm"
   ]
  },
  {
   "cell_type": "code",
   "execution_count": 13,
   "id": "8be879ce",
   "metadata": {},
   "outputs": [],
   "source": [
    "data = np.random.normal(size=(100, 3))"
   ]
  },
  {
   "cell_type": "code",
   "execution_count": 118,
   "id": "2b6c3a53",
   "metadata": {},
   "outputs": [],
   "source": [
    "import numpy as np\n",
    "import pandas\n",
    "import statsmodels.api as sm\n",
    "from statsmodels.tsa.api import VAR\n",
    "from statsmodels.tsa.base.datetools import dates_from_str\n",
    "\n",
    "mdata = sm.datasets.macrodata.load_pandas().data\n",
    "dates = mdata[['year', 'quarter']].astype(int).astype(str)\n",
    "quarterly = dates[\"year\"] + \"Q\" + dates[\"quarter\"]\n",
    "quarterly = dates_from_str(quarterly)\n",
    "mdata = mdata[['realgdp','realcons','realinv']]\n",
    "mdata.index = pandas.DatetimeIndex(quarterly)\n",
    "data = np.log(mdata).diff().dropna()"
   ]
  },
  {
   "cell_type": "code",
   "execution_count": 120,
   "id": "a00081d4",
   "metadata": {},
   "outputs": [],
   "source": [
    "data.to_csv('statsmodels_macrodata_processed.csv')"
   ]
  },
  {
   "cell_type": "code",
   "execution_count": 121,
   "id": "0c562ebc",
   "metadata": {},
   "outputs": [
    {
     "data": {
      "text/html": [
       "<div>\n",
       "<style scoped>\n",
       "    .dataframe tbody tr th:only-of-type {\n",
       "        vertical-align: middle;\n",
       "    }\n",
       "\n",
       "    .dataframe tbody tr th {\n",
       "        vertical-align: top;\n",
       "    }\n",
       "\n",
       "    .dataframe thead th {\n",
       "        text-align: right;\n",
       "    }\n",
       "</style>\n",
       "<table border=\"1\" class=\"dataframe\">\n",
       "  <thead>\n",
       "    <tr style=\"text-align: right;\">\n",
       "      <th></th>\n",
       "      <th>realgdp</th>\n",
       "      <th>realcons</th>\n",
       "      <th>realinv</th>\n",
       "    </tr>\n",
       "  </thead>\n",
       "  <tbody>\n",
       "    <tr>\n",
       "      <th>1959-06-30</th>\n",
       "      <td>0.024942</td>\n",
       "      <td>0.015286</td>\n",
       "      <td>0.080213</td>\n",
       "    </tr>\n",
       "    <tr>\n",
       "      <th>1959-09-30</th>\n",
       "      <td>-0.001193</td>\n",
       "      <td>0.010386</td>\n",
       "      <td>-0.072131</td>\n",
       "    </tr>\n",
       "    <tr>\n",
       "      <th>1959-12-31</th>\n",
       "      <td>0.003495</td>\n",
       "      <td>0.001084</td>\n",
       "      <td>0.034425</td>\n",
       "    </tr>\n",
       "    <tr>\n",
       "      <th>1960-03-31</th>\n",
       "      <td>0.022190</td>\n",
       "      <td>0.009534</td>\n",
       "      <td>0.102664</td>\n",
       "    </tr>\n",
       "    <tr>\n",
       "      <th>1960-06-30</th>\n",
       "      <td>-0.004685</td>\n",
       "      <td>0.012572</td>\n",
       "      <td>-0.106694</td>\n",
       "    </tr>\n",
       "    <tr>\n",
       "      <th>...</th>\n",
       "      <td>...</td>\n",
       "      <td>...</td>\n",
       "      <td>...</td>\n",
       "    </tr>\n",
       "    <tr>\n",
       "      <th>2008-09-30</th>\n",
       "      <td>-0.006781</td>\n",
       "      <td>-0.008948</td>\n",
       "      <td>-0.017836</td>\n",
       "    </tr>\n",
       "    <tr>\n",
       "      <th>2008-12-31</th>\n",
       "      <td>-0.013805</td>\n",
       "      <td>-0.007843</td>\n",
       "      <td>-0.069165</td>\n",
       "    </tr>\n",
       "    <tr>\n",
       "      <th>2009-03-31</th>\n",
       "      <td>-0.016612</td>\n",
       "      <td>0.001511</td>\n",
       "      <td>-0.175598</td>\n",
       "    </tr>\n",
       "    <tr>\n",
       "      <th>2009-06-30</th>\n",
       "      <td>-0.001851</td>\n",
       "      <td>-0.002196</td>\n",
       "      <td>-0.067561</td>\n",
       "    </tr>\n",
       "    <tr>\n",
       "      <th>2009-09-30</th>\n",
       "      <td>0.006862</td>\n",
       "      <td>0.007265</td>\n",
       "      <td>0.020197</td>\n",
       "    </tr>\n",
       "  </tbody>\n",
       "</table>\n",
       "<p>202 rows × 3 columns</p>\n",
       "</div>"
      ],
      "text/plain": [
       "             realgdp  realcons   realinv\n",
       "1959-06-30  0.024942  0.015286  0.080213\n",
       "1959-09-30 -0.001193  0.010386 -0.072131\n",
       "1959-12-31  0.003495  0.001084  0.034425\n",
       "1960-03-31  0.022190  0.009534  0.102664\n",
       "1960-06-30 -0.004685  0.012572 -0.106694\n",
       "...              ...       ...       ...\n",
       "2008-09-30 -0.006781 -0.008948 -0.017836\n",
       "2008-12-31 -0.013805 -0.007843 -0.069165\n",
       "2009-03-31 -0.016612  0.001511 -0.175598\n",
       "2009-06-30 -0.001851 -0.002196 -0.067561\n",
       "2009-09-30  0.006862  0.007265  0.020197\n",
       "\n",
       "[202 rows x 3 columns]"
      ]
     },
     "execution_count": 121,
     "metadata": {},
     "output_type": "execute_result"
    }
   ],
   "source": [
    "data"
   ]
  },
  {
   "cell_type": "code",
   "execution_count": 308,
   "id": "492e9480",
   "metadata": {},
   "outputs": [],
   "source": [
    "from warnings import catch_warnings, simplefilter\n",
    "\n",
    "with catch_warnings():\n",
    "    simplefilter('ignore')\n",
    "    mod = sm.tsa.VARMAX(data, order=(3, 5), trend='n')"
   ]
  },
  {
   "cell_type": "code",
   "execution_count": 348,
   "id": "91050bcc",
   "metadata": {},
   "outputs": [],
   "source": [
    "cumcounts = [None] + np.cumsum(list(mod.parameters.values())).tolist()\n",
    "param_slices = [slice(a, b) for a, b in zip(cumcounts[:-1], cumcounts[1:])]\n",
    "param_lists = [trend, ar, ma, reg, state_cov, obs_cov] = [mod.param_names[idx] for idx in param_slices]\n",
    "param_d = {k: np.random.normal() ** 2 for param_list in param_lists for k in param_list}"
   ]
  },
  {
   "cell_type": "code",
   "execution_count": 349,
   "id": "bb8a6663",
   "metadata": {},
   "outputs": [
    {
     "data": {
      "text/plain": [
       "array([9.96574640e-02, 1.65345932e-01, 1.59660576e+00, 5.28132552e-01,\n",
       "       4.81236515e-02, 8.97510827e-01, 2.98831375e-01, 2.26580733e+00,\n",
       "       8.78934614e-01, 2.06931456e+00, 6.66088212e-01, 2.39139619e-02,\n",
       "       7.46655240e-01, 1.72449685e-02, 4.15539812e+00, 1.18947918e-01,\n",
       "       2.47732947e-01, 4.52037954e-02, 2.26644073e+00, 1.93359145e-01,\n",
       "       9.91466784e-01, 8.92611496e-01, 4.22432820e-01, 8.43731845e-02,\n",
       "       1.87137334e-02, 5.26878794e-01, 1.05874149e+00, 2.74374266e+00,\n",
       "       5.85570112e-01, 1.32070810e+00, 4.61457953e-05, 1.52774337e+00,\n",
       "       1.10589872e-01, 3.56659582e-01, 4.89497037e-02, 4.23597254e-01,\n",
       "       2.53001406e-03, 6.58794455e-01, 9.07563817e-02, 1.09596955e+00,\n",
       "       2.64076674e-01, 1.24584788e-02, 8.78265112e-01, 1.29984908e+00,\n",
       "       5.24482083e-01])"
      ]
     },
     "execution_count": 349,
     "metadata": {},
     "output_type": "execute_result"
    }
   ],
   "source": [
    "np.array([param_d[var] for var in ma])"
   ]
  },
  {
   "cell_type": "code",
   "execution_count": 345,
   "id": "ac5e7a56",
   "metadata": {},
   "outputs": [
    {
     "data": {
      "text/plain": [
       "array([[0.234856  , 0.14561773, 0.00419308],\n",
       "       [0.14561773, 0.12337399, 0.08554384],\n",
       "       [0.00419308, 0.08554384, 0.27491135]])"
      ]
     },
     "execution_count": 345,
     "metadata": {},
     "output_type": "execute_result"
    }
   ],
   "source": [
    "mod.ssm['state_cov']"
   ]
  },
  {
   "cell_type": "code",
   "execution_count": 346,
   "id": "b49e24f8",
   "metadata": {},
   "outputs": [
    {
     "data": {
      "text/plain": [
       "{'L1.realgdp.realgdp': 0.09446069431900957,\n",
       " 'L1.realcons.realgdp': 1.4859065314947975,\n",
       " 'L1.realinv.realgdp': 0.005348710946751118,\n",
       " 'L2.realgdp.realgdp': 0.025072232577998517,\n",
       " 'L2.realcons.realgdp': 0.047359095779670256,\n",
       " 'L2.realinv.realgdp': 6.89583145267583,\n",
       " 'L3.realgdp.realgdp': 0.24306175937297794,\n",
       " 'L3.realcons.realgdp': 0.10014137242563821,\n",
       " 'L3.realinv.realgdp': 0.06927006075682304,\n",
       " 'L1.realgdp.realcons': 4.827021081902981,\n",
       " 'L1.realcons.realcons': 0.5491378338194867,\n",
       " 'L1.realinv.realcons': 0.665593733095405,\n",
       " 'L2.realgdp.realcons': 2.0560204126622934,\n",
       " 'L2.realcons.realcons': 2.159554647014486,\n",
       " 'L2.realinv.realcons': 6.614781342120009,\n",
       " 'L3.realgdp.realcons': 0.009029353720525763,\n",
       " 'L3.realcons.realcons': 0.018001145931244713,\n",
       " 'L3.realinv.realcons': 0.11107201327279365,\n",
       " 'L1.realgdp.realinv': 0.1994099995721026,\n",
       " 'L1.realcons.realinv': 0.8958539993549192,\n",
       " 'L1.realinv.realinv': 2.815427036143525,\n",
       " 'L2.realgdp.realinv': 1.5206083712256064,\n",
       " 'L2.realcons.realinv': 0.19162163499343654,\n",
       " 'L2.realinv.realinv': 0.0004902485905992429,\n",
       " 'L3.realgdp.realinv': 0.376064575474335,\n",
       " 'L3.realcons.realinv': 0.13868070954348263,\n",
       " 'L3.realinv.realinv': 0.09850774246164923,\n",
       " 'L1.e(realgdp).realgdp': 0.2943303380431442,\n",
       " 'L1.e(realcons).realgdp': 0.43607692404206916,\n",
       " 'L1.e(realinv).realgdp': 0.16462249495848724,\n",
       " 'L2.e(realgdp).realgdp': 0.5413403407000372,\n",
       " 'L2.e(realcons).realgdp': 0.7714451515339137,\n",
       " 'L2.e(realinv).realgdp': 4.685965181568134,\n",
       " 'L3.e(realgdp).realgdp': 0.36193529189842216,\n",
       " 'L3.e(realcons).realgdp': 0.42223030165693765,\n",
       " 'L3.e(realinv).realgdp': 2.2086403256965115,\n",
       " 'L4.e(realgdp).realgdp': 1.0461763978071026,\n",
       " 'L4.e(realcons).realgdp': 1.4512831885073258,\n",
       " 'L4.e(realinv).realgdp': 4.844613894392508,\n",
       " 'L5.e(realgdp).realgdp': 0.02220669325371697,\n",
       " 'L5.e(realcons).realgdp': 0.09111598641107961,\n",
       " 'L5.e(realinv).realgdp': 2.347117713852682,\n",
       " 'L1.e(realgdp).realcons': 0.20867481235740107,\n",
       " 'L1.e(realcons).realcons': 0.3296404110614164,\n",
       " 'L1.e(realinv).realcons': 0.6170466895423984,\n",
       " 'L2.e(realgdp).realcons': 0.00393558063800012,\n",
       " 'L2.e(realcons).realcons': 1.2478580401640902,\n",
       " 'L2.e(realinv).realcons': 0.6385295144957469,\n",
       " 'L3.e(realgdp).realcons': 0.9314099311318987,\n",
       " 'L3.e(realcons).realcons': 0.649349544804978,\n",
       " 'L3.e(realinv).realcons': 0.965505030089879,\n",
       " 'L4.e(realgdp).realcons': 0.404208769486726,\n",
       " 'L4.e(realcons).realcons': 0.2961143921546984,\n",
       " 'L4.e(realinv).realcons': 1.3143755886300044,\n",
       " 'L5.e(realgdp).realcons': 0.7019275725097679,\n",
       " 'L5.e(realcons).realcons': 0.5854943579976022,\n",
       " 'L5.e(realinv).realcons': 5.053770501536869,\n",
       " 'L1.e(realgdp).realinv': 0.007037192717938207,\n",
       " 'L1.e(realcons).realinv': 0.07823671699388182,\n",
       " 'L1.e(realinv).realinv': 0.8067115537228474,\n",
       " 'L2.e(realgdp).realinv': 0.05209155533211601,\n",
       " 'L2.e(realcons).realinv': 0.757552772476869,\n",
       " 'L2.e(realinv).realinv': 0.17395053994164184,\n",
       " 'L3.e(realgdp).realinv': 0.6337268574096928,\n",
       " 'L3.e(realcons).realinv': 0.8551202602801181,\n",
       " 'L3.e(realinv).realinv': 0.6839208539544943,\n",
       " 'L4.e(realgdp).realinv': 1.9687129400596917,\n",
       " 'L4.e(realcons).realinv': 0.2759727617984771,\n",
       " 'L4.e(realinv).realinv': 0.5770793159085368,\n",
       " 'L5.e(realgdp).realinv': 3.099124319165312,\n",
       " 'L5.e(realcons).realinv': 0.009043409868166692,\n",
       " 'L5.e(realinv).realinv': 0.07005193819614823,\n",
       " 'sqrt.var.realgdp': 0.48461943449638994,\n",
       " 'sqrt.cov.realgdp.realcons': 0.3004785232856503,\n",
       " 'sqrt.var.realcons': 0.1818973626814001,\n",
       " 'sqrt.cov.realgdp.realinv': 0.008652323434626283,\n",
       " 'sqrt.cov.realcons.realinv': 0.4559934527163716,\n",
       " 'sqrt.var.realinv': 0.2586628319849959}"
      ]
     },
     "execution_count": 346,
     "metadata": {},
     "output_type": "execute_result"
    }
   ],
   "source": [
    "param_d"
   ]
  },
  {
   "cell_type": "code",
   "execution_count": 304,
   "id": "2b2ff6df",
   "metadata": {
    "scrolled": true
   },
   "outputs": [
    {
     "data": {
      "text/plain": [
       "slice(-15, -12, None)"
      ]
     },
     "execution_count": 304,
     "metadata": {},
     "output_type": "execute_result"
    }
   ],
   "source": [
    "slice(-k_obs * q, -k_obs * (q-1))"
   ]
  },
  {
   "cell_type": "code",
   "execution_count": 305,
   "id": "4c9a475c",
   "metadata": {
    "scrolled": true
   },
   "outputs": [
    {
     "data": {
      "text/plain": [
       "array([[1., 0., 0.],\n",
       "       [0., 1., 0.],\n",
       "       [0., 0., 1.]])"
      ]
     },
     "execution_count": 305,
     "metadata": {},
     "output_type": "execute_result"
    }
   ],
   "source": [
    "end = -k_obs * (q-1) if q > 1 else None\n",
    "mod.ssm['selection', slice(-k_obs * q, end), :]"
   ]
  },
  {
   "cell_type": "code",
   "execution_count": 113,
   "id": "ac6b813a",
   "metadata": {},
   "outputs": [
    {
     "name": "stdout",
     "output_type": "stream",
     "text": [
      "[]\n"
     ]
    }
   ],
   "source": [
    "k_obs, p = mod.k_endog, mod.k_ar\n",
    "with np.printoptions(linewidth=1000, precision=3, suppress=True):\n",
    "    print(mod.ssm[('transition', ) + (slice(0, k_obs), slice(k_obs * p, None))])"
   ]
  },
  {
   "cell_type": "code",
   "execution_count": 114,
   "id": "a3657a9f",
   "metadata": {},
   "outputs": [
    {
     "name": "stdout",
     "output_type": "stream",
     "text": [
      "[[1. 0. 0.]\n",
      " [0. 1. 0.]\n",
      " [0. 0. 1.]\n",
      " [0. 0. 0.]\n",
      " [0. 0. 0.]\n",
      " [0. 0. 0.]\n",
      " [0. 0. 0.]\n",
      " [0. 0. 0.]\n",
      " [0. 0. 0.]]\n"
     ]
    }
   ],
   "source": [
    "with np.printoptions(linewidth=1000, precision=3, suppress=True):\n",
    "    print(mod.ssm['selection'])"
   ]
  },
  {
   "cell_type": "code",
   "execution_count": 116,
   "id": "ad27f001",
   "metadata": {},
   "outputs": [
    {
     "ename": "IndexError",
     "evalue": "index 9 is out of bounds for axis 0 with size 9",
     "output_type": "error",
     "traceback": [
      "\u001b[0;31m---------------------------------------------------------------------------\u001b[0m",
      "\u001b[0;31mIndexError\u001b[0m                                Traceback (most recent call last)",
      "Cell \u001b[0;32mIn[116], line 4\u001b[0m\n\u001b[1;32m      2\u001b[0m R \u001b[38;5;241m=\u001b[39m np\u001b[38;5;241m.\u001b[39mzeros((k_states, k_obs))\n\u001b[1;32m      3\u001b[0m R[\u001b[38;5;28mslice\u001b[39m(\u001b[38;5;241m0\u001b[39m, k_obs), \u001b[38;5;28mslice\u001b[39m(\u001b[38;5;241m0\u001b[39m, \u001b[38;5;28;01mNone\u001b[39;00m)] \u001b[38;5;241m=\u001b[39m np\u001b[38;5;241m.\u001b[39meye(k_obs)\n\u001b[0;32m----> 4\u001b[0m \u001b[43mR\u001b[49m\u001b[43m[\u001b[49m\u001b[43mnp\u001b[49m\u001b[38;5;241;43m.\u001b[39;49m\u001b[43marange\u001b[49m\u001b[43m(\u001b[49m\u001b[43mk_obs\u001b[49m\u001b[43m \u001b[49m\u001b[38;5;241;43m*\u001b[39;49m\u001b[43m \u001b[49m\u001b[43mp\u001b[49m\u001b[43m,\u001b[49m\u001b[43m \u001b[49m\u001b[43mk_obs\u001b[49m\u001b[43m \u001b[49m\u001b[38;5;241;43m*\u001b[39;49m\u001b[43m \u001b[49m\u001b[43m(\u001b[49m\u001b[43mp\u001b[49m\u001b[43m \u001b[49m\u001b[38;5;241;43m+\u001b[39;49m\u001b[43m \u001b[49m\u001b[38;5;241;43m1\u001b[39;49m\u001b[43m)\u001b[49m\u001b[43m)\u001b[49m\u001b[43m,\u001b[49m\u001b[43m \u001b[49m\u001b[43mnp\u001b[49m\u001b[38;5;241;43m.\u001b[39;49m\u001b[43marange\u001b[49m\u001b[43m(\u001b[49m\u001b[38;5;241;43m0\u001b[39;49m\u001b[43m,\u001b[49m\u001b[43m \u001b[49m\u001b[43mk_obs\u001b[49m\u001b[43m)\u001b[49m\u001b[43m]\u001b[49m \u001b[38;5;241m=\u001b[39m \u001b[38;5;241m1\u001b[39m\n",
      "\u001b[0;31mIndexError\u001b[0m: index 9 is out of bounds for axis 0 with size 9"
     ]
    }
   ],
   "source": [
    "k_states = mod.k_states\n",
    "R = np.zeros((k_states, k_obs))\n",
    "\n",
    "R[slice(0, k_obs), slice(0, None)] = np.eye(k_obs)\n",
    "R[np.arange(k_obs * p, k_obs * (p + 1)), np.arange(0, k_obs)] = 1"
   ]
  },
  {
   "cell_type": "code",
   "execution_count": null,
   "id": "a170fdda",
   "metadata": {},
   "outputs": [],
   "source": []
  },
  {
   "cell_type": "code",
   "execution_count": 122,
   "id": "96468d47",
   "metadata": {},
   "outputs": [
    {
     "data": {
      "text/plain": [
       "array([[ 0.72381047, -0.06570529, -0.13207411],\n",
       "       [-0.06570529,  0.7160295 ,  0.0789942 ],\n",
       "       [-0.13207411,  0.0789942 ,  0.78839058]])"
      ]
     },
     "execution_count": 122,
     "metadata": {},
     "output_type": "execute_result"
    }
   ],
   "source": [
    "mod.ssm['state_cov']"
   ]
  },
  {
   "cell_type": "code",
   "execution_count": 111,
   "id": "9e666fd0",
   "metadata": {},
   "outputs": [
    {
     "data": {
      "text/plain": [
       "array([[1., 0., 0., 1., 0., 0.],\n",
       "       [0., 1., 0., 0., 1., 0.],\n",
       "       [0., 0., 1., 0., 0., 1.],\n",
       "       [0., 0., 0., 0., 0., 0.],\n",
       "       [0., 0., 0., 0., 0., 0.],\n",
       "       [0., 0., 0., 0., 0., 0.],\n",
       "       [0., 0., 0., 0., 0., 0.],\n",
       "       [0., 0., 0., 0., 0., 0.],\n",
       "       [0., 0., 0., 0., 0., 0.],\n",
       "       [1., 0., 0., 1., 0., 0.],\n",
       "       [0., 1., 0., 0., 1., 0.],\n",
       "       [0., 0., 1., 0., 0., 1.],\n",
       "       [0., 0., 0., 0., 0., 0.],\n",
       "       [0., 0., 0., 0., 0., 0.],\n",
       "       [0., 0., 0., 0., 0., 0.],\n",
       "       [0., 0., 0., 0., 0., 0.],\n",
       "       [0., 0., 0., 0., 0., 0.],\n",
       "       [0., 0., 0., 0., 0., 0.]])"
      ]
     },
     "execution_count": 111,
     "metadata": {},
     "output_type": "execute_result"
    }
   ],
   "source": [
    "np.c_[R, mod.ssm['selection']]"
   ]
  },
  {
   "cell_type": "code",
   "execution_count": 82,
   "id": "c1dace45",
   "metadata": {},
   "outputs": [
    {
     "data": {
      "text/plain": [
       "array([[1., 0., 0., 0., 0., 0., 0., 0., 0.],\n",
       "       [0., 1., 0., 0., 0., 0., 0., 0., 0.],\n",
       "       [0., 0., 1., 0., 0., 0., 0., 0., 0.],\n",
       "       [0., 0., 0., 1., 0., 0., 0., 0., 0.],\n",
       "       [0., 0., 0., 0., 1., 0., 0., 0., 0.],\n",
       "       [0., 0., 0., 0., 0., 1., 0., 0., 0.],\n",
       "       [0., 0., 0., 0., 0., 0., 0., 0., 0.],\n",
       "       [0., 0., 0., 0., 0., 0., 0., 0., 0.],\n",
       "       [0., 0., 0., 0., 0., 0., 0., 0., 0.]])"
      ]
     },
     "execution_count": 82,
     "metadata": {},
     "output_type": "execute_result"
    }
   ],
   "source": [
    "mod.ssm[('transition', slice(k_obs, None), slice(0, k_obs * p))]"
   ]
  },
  {
   "cell_type": "code",
   "execution_count": 89,
   "id": "2b091ba5",
   "metadata": {},
   "outputs": [],
   "source": [
    "eye = np.eye(k_obs * p)\n",
    "eye[-k_obs:] = 0"
   ]
  },
  {
   "cell_type": "code",
   "execution_count": 90,
   "id": "1178e088",
   "metadata": {},
   "outputs": [
    {
     "data": {
      "text/plain": [
       "array([[1., 0., 0., 0., 0., 0., 0., 0., 0.],\n",
       "       [0., 1., 0., 0., 0., 0., 0., 0., 0.],\n",
       "       [0., 0., 1., 0., 0., 0., 0., 0., 0.],\n",
       "       [0., 0., 0., 1., 0., 0., 0., 0., 0.],\n",
       "       [0., 0., 0., 0., 1., 0., 0., 0., 0.],\n",
       "       [0., 0., 0., 0., 0., 1., 0., 0., 0.],\n",
       "       [0., 0., 0., 0., 0., 0., 0., 0., 0.],\n",
       "       [0., 0., 0., 0., 0., 0., 0., 0., 0.],\n",
       "       [0., 0., 0., 0., 0., 0., 0., 0., 0.]])"
      ]
     },
     "execution_count": 90,
     "metadata": {},
     "output_type": "execute_result"
    }
   ],
   "source": [
    "eye"
   ]
  },
  {
   "cell_type": "code",
   "execution_count": null,
   "id": "50d59e91",
   "metadata": {},
   "outputs": [],
   "source": []
  },
  {
   "cell_type": "code",
   "execution_count": 303,
   "id": "06563b89",
   "metadata": {},
   "outputs": [
    {
     "name": "stdout",
     "output_type": "stream",
     "text": [
      "[[1. 0. 0.]\n",
      " [0. 1. 0.]\n",
      " [0. 0. 1.]\n",
      " [0. 0. 0.]\n",
      " [0. 0. 0.]\n",
      " [0. 0. 0.]\n",
      " [0. 0. 0.]\n",
      " [0. 0. 0.]\n",
      " [0. 0. 0.]\n",
      " [1. 0. 0.]\n",
      " [0. 1. 0.]\n",
      " [0. 0. 1.]\n",
      " [0. 0. 0.]\n",
      " [0. 0. 0.]\n",
      " [0. 0. 0.]\n",
      " [0. 0. 0.]\n",
      " [0. 0. 0.]\n",
      " [0. 0. 0.]\n",
      " [0. 0. 0.]\n",
      " [0. 0. 0.]\n",
      " [0. 0. 0.]\n",
      " [0. 0. 0.]\n",
      " [0. 0. 0.]\n",
      " [0. 0. 0.]]\n"
     ]
    }
   ],
   "source": [
    "k_obs, p, q = mod.k_endog, mod.k_ar, mod.k_ma\n",
    "with np.printoptions(linewidth=1000, precision=1, suppress=True):\n",
    "    print(mod.ssm['selection'])"
   ]
  },
  {
   "cell_type": "code",
   "execution_count": 338,
   "id": "2c073497",
   "metadata": {},
   "outputs": [
    {
     "data": {
      "text/plain": [
       "array([['L1.realgdp.realgdp', 'L1.realcons.realgdp',\n",
       "        'L1.realinv.realgdp', 'L2.realgdp.realgdp',\n",
       "        'L2.realcons.realgdp', 'L2.realinv.realgdp',\n",
       "        'L3.realgdp.realgdp', 'L3.realcons.realgdp',\n",
       "        'L3.realinv.realgdp'],\n",
       "       ['L1.realgdp.realcons', 'L1.realcons.realcons',\n",
       "        'L1.realinv.realcons', 'L2.realgdp.realcons',\n",
       "        'L2.realcons.realcons', 'L2.realinv.realcons',\n",
       "        'L3.realgdp.realcons', 'L3.realcons.realcons',\n",
       "        'L3.realinv.realcons'],\n",
       "       ['L1.realgdp.realinv', 'L1.realcons.realinv',\n",
       "        'L1.realinv.realinv', 'L2.realgdp.realinv',\n",
       "        'L2.realcons.realinv', 'L2.realinv.realinv',\n",
       "        'L3.realgdp.realinv', 'L3.realcons.realinv',\n",
       "        'L3.realinv.realinv']], dtype='<U20')"
      ]
     },
     "execution_count": 338,
     "metadata": {},
     "output_type": "execute_result"
    }
   ],
   "source": [
    "np.array(ar).reshape((3, 9))"
   ]
  },
  {
   "cell_type": "code",
   "execution_count": 334,
   "id": "64f82ebf",
   "metadata": {},
   "outputs": [
    {
     "data": {
      "text/plain": [
       "[]"
      ]
     },
     "execution_count": 334,
     "metadata": {},
     "output_type": "execute_result"
    }
   ],
   "source": [
    "obs_cov"
   ]
  },
  {
   "cell_type": "code",
   "execution_count": 328,
   "id": "0f3bc0ea",
   "metadata": {},
   "outputs": [
    {
     "data": {
      "text/plain": [
       "[slice(None, 0, None),\n",
       " slice(0, 27, None),\n",
       " slice(27, 72, None),\n",
       " slice(72, 72, None),\n",
       " slice(72, 78, None),\n",
       " slice(78, 78, None)]"
      ]
     },
     "execution_count": 328,
     "metadata": {},
     "output_type": "execute_result"
    }
   ],
   "source": [
    "param_slices"
   ]
  },
  {
   "cell_type": "code",
   "execution_count": 327,
   "id": "b3f0913b",
   "metadata": {},
   "outputs": [
    {
     "data": {
      "text/plain": [
       "[None, 0, 27, 72, 72, 78, 78]"
      ]
     },
     "execution_count": 327,
     "metadata": {},
     "output_type": "execute_result"
    }
   ],
   "source": [
    "cumcounts"
   ]
  },
  {
   "cell_type": "code",
   "execution_count": 319,
   "id": "bcb6ad9a",
   "metadata": {},
   "outputs": [
    {
     "data": {
      "text/plain": [
       "[slice(0, 27, None),\n",
       " slice(27, 72, None),\n",
       " slice(72, 72, None),\n",
       " slice(72, 78, None),\n",
       " slice(78, 78, None),\n",
       " slice(78, None, None)]"
      ]
     },
     "execution_count": 319,
     "metadata": {},
     "output_type": "execute_result"
    }
   ],
   "source": [
    "param_slices"
   ]
  }
 ],
 "metadata": {
  "kernelspec": {
   "display_name": "Python 3 (ipykernel)",
   "language": "python",
   "name": "python3"
  },
  "language_info": {
   "codemirror_mode": {
    "name": "ipython",
    "version": 3
   },
   "file_extension": ".py",
   "mimetype": "text/x-python",
   "name": "python",
   "nbconvert_exporter": "python",
   "pygments_lexer": "ipython3",
   "version": "3.10.10"
  },
  "toc": {
   "base_numbering": 1,
   "nav_menu": {},
   "number_sections": true,
   "sideBar": true,
   "skip_h1_title": false,
   "title_cell": "Table of Contents",
   "title_sidebar": "Contents",
   "toc_cell": true,
   "toc_position": {},
   "toc_section_display": true,
   "toc_window_display": false
  }
 },
 "nbformat": 4,
 "nbformat_minor": 5
}
